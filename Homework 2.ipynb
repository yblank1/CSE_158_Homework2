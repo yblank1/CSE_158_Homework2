{
 "cells": [
  {
   "cell_type": "code",
   "execution_count": 73,
   "metadata": {
    "collapsed": false
   },
   "outputs": [],
   "source": [
    "import numpy\n",
    "from urllib.request import urlopen\n",
    "import scipy.optimize\n",
    "import random\n",
    "from sklearn.decomposition import PCA\n",
    "from math import exp\n",
    "from math import log\n",
    "import matplotlib.pyplot as plt"
   ]
  },
  {
   "cell_type": "code",
   "execution_count": 2,
   "metadata": {
    "collapsed": true
   },
   "outputs": [],
   "source": [
    "def parseData(fname):\n",
    "  for l in urlopen(fname):\n",
    "    yield eval(l)"
   ]
  },
  {
   "cell_type": "code",
   "execution_count": 3,
   "metadata": {
    "collapsed": false
   },
   "outputs": [
    {
     "name": "stdout",
     "output_type": "stream",
     "text": [
      "Reading data...\n",
      "done\n"
     ]
    }
   ],
   "source": [
    "print(\"Reading data...\")\n",
    "data = list(parseData(\"http://jmcauley.ucsd.edu/cse190/data/beer/beer_50000.json\"))\n",
    "print(\"done\")"
   ]
  },
  {
   "cell_type": "code",
   "execution_count": 29,
   "metadata": {
    "collapsed": true
   },
   "outputs": [],
   "source": [
    "def feature(datum):\n",
    "  feat = [1, datum['review/taste'], datum['review/appearance'], datum['review/aroma'], datum['review/palate'], datum['review/overall']]\n",
    "  return feat"
   ]
  },
  {
   "cell_type": "code",
   "execution_count": 30,
   "metadata": {
    "collapsed": true
   },
   "outputs": [],
   "source": [
    "X = [feature(d) for d in data]\n",
    "y = [d['beer/ABV'] >= 6.5 for d in data]"
   ]
  },
  {
   "cell_type": "code",
   "execution_count": 31,
   "metadata": {
    "collapsed": true
   },
   "outputs": [],
   "source": [
    "def inner(x,y):\n",
    "  return sum([x[i]*y[i] for i in range(len(x))])"
   ]
  },
  {
   "cell_type": "code",
   "execution_count": 32,
   "metadata": {
    "collapsed": true
   },
   "outputs": [],
   "source": [
    "def sigmoid(x):\n",
    "  return 1.0 / (1 + exp(-x))"
   ]
  },
  {
   "cell_type": "code",
   "execution_count": 33,
   "metadata": {
    "collapsed": true
   },
   "outputs": [],
   "source": [
    "##################################################\n",
    "# Logistic regression by gradient ascent         #\n",
    "##################################################\n"
   ]
  },
  {
   "cell_type": "code",
   "execution_count": 34,
   "metadata": {
    "collapsed": true
   },
   "outputs": [],
   "source": [
    "# NEGATIVE Log-likelihood\n",
    "def f(theta, X, y, lam):\n",
    "  loglikelihood = 0\n",
    "  for i in range(len(X)):\n",
    "    logit = inner(X[i], theta)\n",
    "    loglikelihood -= log(1 + exp(-logit))\n",
    "    if not y[i]:\n",
    "      loglikelihood -= logit\n",
    "  for k in range(len(theta)):\n",
    "    loglikelihood -= lam * theta[k]*theta[k]\n",
    "  # for debugging\n",
    "  # print(\"ll =\" + str(loglikelihood))\n",
    "  return -loglikelihood"
   ]
  },
  {
   "cell_type": "code",
   "execution_count": 35,
   "metadata": {
    "collapsed": true
   },
   "outputs": [],
   "source": [
    "# NEGATIVE Derivative of log-likelihood\n",
    "def fprime(theta, X, y, lam):\n",
    "  dl = [0]*len(theta)\n",
    "  for i in range(len(X)):\n",
    "    logit = inner(X[i], theta)\n",
    "    for k in range(len(theta)):\n",
    "      dl[k] += X[i][k] * (1 - sigmoid(logit))\n",
    "      if not y[i]:\n",
    "        dl[k] -= X[i][k]\n",
    "  for k in range(len(theta)):\n",
    "    dl[k] -= lam*2*theta[k]\n",
    "  return numpy.array([-x for x in dl])\n",
    "\n",
    "X_train = X\n",
    "y_train = y\n"
   ]
  },
  {
   "cell_type": "code",
   "execution_count": 36,
   "metadata": {
    "collapsed": true
   },
   "outputs": [],
   "source": [
    "##################################################\n",
    "# Train                                          #\n",
    "##################################################\n",
    "\n",
    "def train(lam, X, y):\n",
    "  theta,_,_ = scipy.optimize.fmin_l_bfgs_b(f, [0]*len(X[0]), fprime, pgtol = 10, args = (X, y, lam))\n",
    "  return theta"
   ]
  },
  {
   "cell_type": "code",
   "execution_count": 37,
   "metadata": {
    "collapsed": true
   },
   "outputs": [],
   "source": [
    "def performance(theta, X, y):\n",
    "  scores = [inner(theta,x) for x in X]\n",
    "  predictions = [s > 0 for s in scores]\n",
    "  correct = [(a==b) for (a,b) in zip(predictions,y)]\n",
    "  acc = sum(correct) * 1.0 / len(correct)\n",
    "  return acc"
   ]
  },
  {
   "cell_type": "code",
   "execution_count": 38,
   "metadata": {
    "collapsed": true
   },
   "outputs": [],
   "source": [
    "def predictions(theta, X):\n",
    "    scores = [inner(theta,x) for x in X]\n",
    "    predictions = [s > 0 for s in scores]\n",
    "    return predictions"
   ]
  },
  {
   "cell_type": "code",
   "execution_count": 39,
   "metadata": {
    "collapsed": true
   },
   "outputs": [],
   "source": [
    "def report_accuracies(lam, acc, title = \"\"):\n",
    "    print(title + \" --->\\t\" \"lambda = \" + str(lam) + \":\\taccuracy = \" + str(acc))"
   ]
  },
  {
   "cell_type": "code",
   "execution_count": 40,
   "metadata": {
    "collapsed": false
   },
   "outputs": [
    {
     "name": "stdout",
     "output_type": "stream",
     "text": [
      " --->\tlambda = 1.0:\taccuracy = 0.71868\n"
     ]
    }
   ],
   "source": [
    "##################################################\n",
    "# Validation pipeline                            #\n",
    "##################################################\n",
    "\n",
    "lam = 1.0\n",
    "\n",
    "theta = train(lam, X, y)\n",
    "acc = performance(theta, X, y)\n",
    "report_accuracies(lam, acc)"
   ]
  },
  {
   "cell_type": "markdown",
   "metadata": {},
   "source": [
    "### 1. Split the data and test\n",
    "\n",
    "Training Set --->\taccuracy = 0.669946601068\n",
    "\n",
    "Validation Set --->\taccuracy = 0.900756030241\n",
    "\n",
    "Testing Set --->\taccuracy = 0.577188456231\n"
   ]
  },
  {
   "cell_type": "code",
   "execution_count": 45,
   "metadata": {
    "collapsed": true
   },
   "outputs": [],
   "source": [
    "# Split the sets - X was already made a feature above\n",
    "training_set_X = X[:16667]\n",
    "training_set_y = y[:16667]\n",
    "validation_set_X = X[16667:33333]\n",
    "validation_set_y = y[16667:33333]\n",
    "test_set_X = X[33333:]\n",
    "test_set_y = y[33333:]"
   ]
  },
  {
   "cell_type": "code",
   "execution_count": 46,
   "metadata": {
    "collapsed": false
   },
   "outputs": [
    {
     "name": "stdout",
     "output_type": "stream",
     "text": [
      "Training Set --->\tlambda = 1.0:\taccuracy = 0.669946601068\n",
      "Validation Set --->\tlambda = 1.0:\taccuracy = 0.900756030241\n",
      "Testing Set --->\tlambda = 1.0:\taccuracy = 0.577188456231\n"
     ]
    }
   ],
   "source": [
    "# Get the accuracies for each set\n",
    "#X_train = training_set_X\n",
    "#y_train = training_set_y\n",
    "\n",
    "theta = train(lam, training_set_X, training_set_y)\n",
    "acc = performance(theta, training_set_X, training_set_y)\n",
    "report_accuracies(lam, acc, \"Training Set\")\n",
    "\n",
    "acc = performance(theta, validation_set_X, validation_set_y)\n",
    "report_accuracies(lam, acc, \"Validation Set\")\n",
    "\n",
    "acc = performance(theta, test_set_X, test_set_y)\n",
    "report_accuracies(lam, acc, \"Testing Set\")"
   ]
  },
  {
   "cell_type": "markdown",
   "metadata": {},
   "source": [
    "### 2. More accurate classifier"
   ]
  },
  {
   "cell_type": "code",
   "execution_count": 47,
   "metadata": {
    "collapsed": false
   },
   "outputs": [],
   "source": [
    "# Find the number of times a list of words occurs in a review. Return a list with the counts\n",
    "\n",
    "def wordCount (word_list, datum):\n",
    "    description = datum[\"review/text\"].lower()\n",
    "    description = description.replace(\".\", \" \")\n",
    "    description = description.replace(\",\", \" \")\n",
    "    words = description.split()\n",
    "    counts = []\n",
    "    for word in word_list:\n",
    "        counts.append(words.count(word))\n",
    "    #print(counts)\n",
    "    return counts\n"
   ]
  },
  {
   "cell_type": "code",
   "execution_count": 48,
   "metadata": {
    "collapsed": false
   },
   "outputs": [],
   "source": [
    "# Createa feature based on the number of counts of each of the following 10 words within the description\n",
    "# 'lactic', 'tart', 'sour', 'citric',  'sweet', 'acid', 'hop', 'fruit', 'salt', 'spicy'\n",
    "def feature (datum, with_one = True):\n",
    "    if with_one == True:\n",
    "        feat = [1] + ((wordCount(['lactic', 'tart', 'sour', 'citric',  'sweet', 'acid', 'hop', 'fruit', 'salt', 'spicy'], datum)))\n",
    "    else:\n",
    "        feat = ((wordCount(['lactic', 'tart', 'sour', 'citric',  'sweet', 'acid', 'hop', 'fruit', 'salt', 'spicy'], datum)))\n",
    "    return feat"
   ]
  },
  {
   "cell_type": "code",
   "execution_count": 49,
   "metadata": {
    "collapsed": false
   },
   "outputs": [],
   "source": [
    "# Get the X any y\n",
    "X = [feature(d) for d in data]\n",
    "y = [d['beer/ABV'] >= 6.5 for d in data]\n",
    "\n",
    "# Split the data into the training, validation, and testing set\n",
    "# Split the sets\n",
    "training_set_X = X[:16667]\n",
    "training_set_y = y[:16667]\n",
    "validation_set_X = X[16667:33333]\n",
    "validation_set_y = y[16667:33333]\n",
    "test_set_X = X[33333:]\n",
    "test_set_y = y[33333:]"
   ]
  },
  {
   "cell_type": "code",
   "execution_count": 50,
   "metadata": {
    "collapsed": false
   },
   "outputs": [
    {
     "name": "stdout",
     "output_type": "stream",
     "text": [
      "Training Set --->\tlambda = 1.0:\taccuracy = 0.562548749025\n",
      "Validation Set --->\tlambda = 1.0:\taccuracy = 0.946357854314\n",
      "Testing Set --->\tlambda = 1.0:\taccuracy = 0.362152756945\n"
     ]
    }
   ],
   "source": [
    "# Get the accuracies for each set\n",
    "#X_train = training_set_X\n",
    "#y_train = training_set_y\n",
    "\n",
    "theta = train(lam, training_set_X, training_set_y)\n",
    "acc = performance(theta, training_set_X, training_set_y)\n",
    "report_accuracies(lam, acc, \"Training Set\")\n",
    "\n",
    "acc = performance(theta, validation_set_X, validation_set_y)\n",
    "report_accuracies(lam, acc, \"Validation Set\")\n",
    "\n",
    "acc = performance(theta, test_set_X, test_set_y)\n",
    "report_accuracies(lam, acc, \"Testing Set\")"
   ]
  },
  {
   "cell_type": "markdown",
   "metadata": {},
   "source": [
    "### 3. True/False Positives and Negatives, and Balanced Error Rate"
   ]
  },
  {
   "cell_type": "code",
   "execution_count": 51,
   "metadata": {
    "collapsed": true
   },
   "outputs": [],
   "source": [
    "# Balanced Error Rate Method\n",
    "def ber (tp, tn, fp, fn): \n",
    "    ber_ret = 0.5 * (fp/(fp + tn) + fn/(fn+tp))\n",
    "    return ber_ret\n"
   ]
  },
  {
   "cell_type": "code",
   "execution_count": 52,
   "metadata": {
    "collapsed": false
   },
   "outputs": [
    {
     "name": "stdout",
     "output_type": "stream",
     "text": [
      "True Positives:  5832\n",
      "True Negatives:  204\n",
      "False Positives:  10551\n",
      "False negatives:  80\n",
      "BER:  0.4972819389162859\n"
     ]
    }
   ],
   "source": [
    "true_positives = 0\n",
    "true_negatives = 0\n",
    "false_positives = 0\n",
    "false_negatives = 0\n",
    "\n",
    "prediction_y  = list(predictions(theta, test_set_X))\n",
    "test_set_y = list(test_set_y)\n",
    "for i in range(len(prediction_y)):\n",
    "    if (prediction_y[i] == test_set_y[i]) and (prediction_y[i] == True):\n",
    "        true_positives+=1\n",
    "    elif prediction_y[i] == test_set_y[i] and prediction_y[i] == False:\n",
    "        true_negatives+=1\n",
    "    elif prediction_y[i] != test_set_y[i] and prediction_y[i] == True:\n",
    "        false_positives+=1\n",
    "    else:\n",
    "        false_negatives+=1\n",
    "        \n",
    "print(\"True Positives: \", true_positives)\n",
    "print(\"True Negatives: \", true_negatives)\n",
    "print(\"False Positives: \", false_positives)\n",
    "print(\"False negatives: \", false_negatives)\n",
    "print(\"BER: \", ber(true_positives, true_negatives, false_positives, false_negatives))\n",
    "\n"
   ]
  },
  {
   "cell_type": "markdown",
   "metadata": {},
   "source": [
    "### 4. Comparing performance of classifiers with differnt lambdas\n",
    "\n",
    "Accuracies on the validation set for each lambda:\n",
    "\n",
    "Validation Set --->\tlambda = 0:\taccuracy = 0.946357854314\n",
    "\n",
    "Validation Set --->\tlambda = 0.01:\taccuracy = 0.946357854314\n",
    "\n",
    "Validation Set --->\tlambda = 0.1:\taccuracy = 0.946357854314\n",
    "\n",
    "Validation Set --->\tlambda = 1:\taccuracy = 0.946357854314\n",
    "\n",
    "Validation Set --->\tlambda = 100:\taccuracy = 0.952778111124\n",
    "\n",
    "\n",
    "#### The best lambda was 100. The acuuracies for each of the sets with lambda = 100 is:\n",
    "\n",
    "Training Set --->\tlambda = 100:\taccuracy = 0.561348773025\n",
    "\n",
    "Validation Set --->\tlambda = 100:\taccuracy = 0.952778111124\n",
    "\n",
    "Testing Set --->\tlambda = 100:\taccuracy = 0.356152876942\n"
   ]
  },
  {
   "cell_type": "code",
   "execution_count": 53,
   "metadata": {
    "collapsed": false
   },
   "outputs": [
    {
     "name": "stdout",
     "output_type": "stream",
     "text": [
      "Validation Set --->\tlambda = 0:\taccuracy = 0.946357854314\n",
      "Validation Set --->\tlambda = 0.01:\taccuracy = 0.946357854314\n",
      "Validation Set --->\tlambda = 0.1:\taccuracy = 0.946357854314\n",
      "Validation Set --->\tlambda = 1:\taccuracy = 0.946357854314\n",
      "Validation Set --->\tlambda = 100:\taccuracy = 0.952778111124\n"
     ]
    }
   ],
   "source": [
    "# Get the accuracy using different lambdas on the validation set\n",
    "lambdas = [0, .01, .1, 1, 100]\n",
    "for lam in lambdas:\n",
    "    theta = train(lam, training_set_X, training_set_y)\n",
    "    acc = performance(theta, validation_set_X, validation_set_y)\n",
    "    report_accuracies(lam, acc, \"Validation Set\")\n"
   ]
  },
  {
   "cell_type": "code",
   "execution_count": 54,
   "metadata": {
    "collapsed": false
   },
   "outputs": [
    {
     "name": "stdout",
     "output_type": "stream",
     "text": [
      "Training Set --->\tlambda = 100:\taccuracy = 0.561348773025\n",
      "Validation Set --->\tlambda = 100:\taccuracy = 0.952778111124\n",
      "Testing Set --->\tlambda = 100:\taccuracy = 0.356152876942\n"
     ]
    }
   ],
   "source": [
    "# Get the results for all three sets with lambda = 100\n",
    "lam = 100\n",
    "\n",
    "theta = train(lam, training_set_X, training_set_y)\n",
    "acc = performance(theta, training_set_X, training_set_y)\n",
    "report_accuracies(lam, acc, \"Training Set\")\n",
    "\n",
    "acc = performance(theta, validation_set_X, validation_set_y)\n",
    "report_accuracies(lam, acc, \"Validation Set\")\n",
    "\n",
    "acc = performance(theta, test_set_X, test_set_y)\n",
    "report_accuracies(lam, acc, \"Testing Set\")"
   ]
  },
  {
   "cell_type": "markdown",
   "metadata": {},
   "source": [
    "### 5. PCA Components\n",
    "\n",
    "See output for components"
   ]
  },
  {
   "cell_type": "code",
   "execution_count": 56,
   "metadata": {
    "collapsed": false
   },
   "outputs": [
    {
     "data": {
      "text/plain": [
       "array([[ -7.24610180e-04,   3.85694421e-03,  -1.00688641e-02,\n",
       "          9.77779166e-03,   8.07183505e-01,  -4.17417567e-04,\n",
       "          5.84902652e-01,   7.18723815e-02,   9.31142184e-05,\n",
       "          3.10719552e-02],\n",
       "       [ -1.41372375e-03,  -8.80615572e-03,  -1.47242196e-02,\n",
       "          1.40808580e-02,  -5.86980464e-01,   3.25576660e-04,\n",
       "          8.09210065e-01,  -1.68332678e-03,  -1.07927898e-03,\n",
       "          1.15879951e-02],\n",
       "       [  3.95438582e-03,   4.21123272e-02,   8.42900443e-02,\n",
       "          2.76361244e-03,  -5.99043840e-02,  -1.35775240e-04,\n",
       "         -3.99166256e-02,   9.92369840e-01,   1.72199345e-04,\n",
       "          3.34461687e-02],\n",
       "       [ -3.76731835e-04,   2.08450865e-02,  -1.32468475e-02,\n",
       "          2.03859869e-02,  -1.64534816e-02,  -7.46749388e-05,\n",
       "         -2.66712914e-02,  -3.55292635e-02,   2.81079766e-03,\n",
       "          9.98359636e-01],\n",
       "       [  2.55416071e-02,   2.30813793e-01,   9.68048908e-01,\n",
       "          3.30276808e-03,   2.94931825e-03,   9.77008934e-03,\n",
       "          2.19835825e-02,  -9.12470805e-02,   9.44724783e-04,\n",
       "          5.35432765e-03],\n",
       "       [  3.31988451e-02,   9.70849517e-01,  -2.34374121e-01,\n",
       "          1.29561422e-02,  -6.26062438e-03,   1.00911306e-02,\n",
       "          1.90544328e-03,  -2.09373656e-02,   8.30682496e-03,\n",
       "         -2.44525610e-02],\n",
       "       [  7.68516348e-03,  -1.42085356e-02,  -1.01705778e-05,\n",
       "          9.99491937e-01,   9.49973589e-04,   7.08546832e-03,\n",
       "         -1.65555215e-02,  -2.12323279e-03,   5.73782193e-04,\n",
       "         -2.06129510e-02],\n",
       "       [  9.98242171e-01,  -3.86464909e-02,  -1.76059159e-02,\n",
       "         -8.46617599e-03,   1.35535733e-04,   4.02233101e-02,\n",
       "          1.20913099e-03,  -7.94309563e-04,  -4.00484027e-03,\n",
       "          1.14342150e-03],\n",
       "       [ -4.08565706e-02,  -1.03283353e-02,  -6.38684707e-03,\n",
       "         -6.90326288e-03,   5.46037041e-04,   9.99036465e-01,\n",
       "         -1.99073527e-04,   1.31219948e-03,  -7.71608678e-03,\n",
       "          4.03276318e-04],\n",
       "       [  3.37741245e-03,  -8.58541872e-03,   9.20417314e-04,\n",
       "         -8.14960323e-04,  -5.98728805e-04,   7.77384484e-03,\n",
       "          8.77018765e-04,   1.88774281e-04,   9.99922544e-01,\n",
       "         -2.58495006e-03]])"
      ]
     },
     "execution_count": 56,
     "metadata": {},
     "output_type": "execute_result"
    }
   ],
   "source": [
    "pca = PCA()\n",
    "training_set_X = data[:len(training_set_X)]\n",
    "X = [feature(d, with_one = False) for d in training_set_X]\n",
    "pca.fit(X)\n",
    "\n",
    "explained_var_10 = pca.explained_variance_\n",
    "pca.components_\n"
   ]
  },
  {
   "cell_type": "markdown",
   "metadata": {},
   "source": [
    "### 6. Representing first data point using PCA\n",
    " \n",
    "See solution below"
   ]
  },
  {
   "cell_type": "code",
   "execution_count": 57,
   "metadata": {
    "collapsed": false
   },
   "outputs": [
    {
     "name": "stdout",
     "output_type": "stream",
     "text": [
      "[-0.64689613 -0.00650866 -0.04509619 -0.03860312  0.22861243  1.02583256\n",
      " -0.01062785  1.95501061 -0.09472702 -0.00362346]\n"
     ]
    }
   ],
   "source": [
    "print(pca.fit_transform(X)[0])"
   ]
  },
  {
   "cell_type": "markdown",
   "metadata": {},
   "source": [
    "### 7. Reconstrruction error of representing data in two dimensions\n",
    "\n",
    "Reconstruction Error:  3.77361978073"
   ]
  },
  {
   "cell_type": "code",
   "execution_count": 65,
   "metadata": {
    "collapsed": false
   },
   "outputs": [
    {
     "name": "stdout",
     "output_type": "stream",
     "text": [
      "Reconstruction Error:  3.77361978073\n"
     ]
    }
   ],
   "source": [
    "pca = PCA(n_components=2)\n",
    "\n",
    "pca.fit(X)\n",
    "\n",
    "rec_error = sum(explained_var_10[2:])\n",
    "print(\"Reconstruction Error: \", rec_error * 8)\n"
   ]
  },
  {
   "cell_type": "markdown",
   "metadata": {},
   "source": [
    "### 8. Plotting the Data"
   ]
  },
  {
   "cell_type": "code",
   "execution_count": 90,
   "metadata": {
    "collapsed": false
   },
   "outputs": [
    {
     "name": "stdout",
     "output_type": "stream",
     "text": [
      "[[-0.6468961277656085, -0.00650866374536756], [-0.5774314701552973, 0.003441612688474553], [-0.06440119993955362, 0.8143350040314887], [3.526954619305436, 0.6718137410536176], [0.15787965367613085, -0.5818555245611511], [-0.6493038516191408, 0.005124939471479182], [-0.6182318964310115, 0.016712934552591405], [-0.6493038516191408, 0.005124939471479182], [-0.6493038516191408, 0.005124939471479182], [-0.03332924475142414, 0.8259229991126011]]\n"
     ]
    }
   ],
   "source": [
    "print(two_dim_rep[:10])"
   ]
  },
  {
   "cell_type": "code",
   "execution_count": 107,
   "metadata": {
    "collapsed": false
   },
   "outputs": [
    {
     "name": "stdout",
     "output_type": "stream",
     "text": [
      "\n"
     ]
    }
   ],
   "source": [
    "two_dim_rep = (pca.fit_transform(X)).tolist()\n",
    "print()\n",
    "x_coord = [d[0] for d in two_dim_rep]\n",
    "y_coord = [d[1] for d in two_dim_rep]\n",
    "color_coord = [d['beer/style'] == 'American IPA' for d in data]\n",
    "\n",
    "color = []\n",
    "for d in color_coord:\n",
    "    if d == True:\n",
    "        color.append('red') \n",
    "    else:\n",
    "        color.append('blue')"
   ]
  },
  {
   "cell_type": "code",
   "execution_count": 111,
   "metadata": {
    "collapsed": false
   },
   "outputs": [
    {
     "data": {
      "image/png": "[encoded data removed]",
      "text/plain": [
       "<matplotlib.figure.Figure at 0x1cf16650ac8>"
      ]
     },
     "metadata": {},
     "output_type": "display_data"
    }
   ],
   "source": [
    "plt.scatter(x_coord, y_coord, c=color)\n",
    "plt.show()"
   ]
  },
  {
   "cell_type": "code",
   "execution_count": null,
   "metadata": {
    "collapsed": true
   },
   "outputs": [],
   "source": []
  }
 ],
 "metadata": {
  "kernelspec": {
   "display_name": "Python 3",
   "language": "python",
   "name": "python3"
  },
  "language_info": {
   "codemirror_mode": {
    "name": "ipython",
    "version": 3
   },
   "file_extension": ".py",
   "mimetype": "text/x-python",
   "name": "python",
   "nbconvert_exporter": "python",
   "pygments_lexer": "ipython3",
   "version": "3.6.0"
  }
 },
 "nbformat": 4,
 "nbformat_minor": 2
}
